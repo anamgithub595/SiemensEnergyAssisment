{
  "cells": [
    {
      "cell_type": "markdown",
      "metadata": {
        "id": "Xa0nNXaBqXLO"
      },
      "source": [
        "# Assignment\n",
        "\n",
        "here are steps I followed:\n",
        "\n",
        "\n",
        "1. Data Inspection\n",
        "2. Outlier adjustments\n",
        "3. Feature Engineering\n",
        "4. Modeling\n",
        "5. Evalution\n",
        "6. overfitting disscussion\n"
      ]
    },
    {
      "cell_type": "code",
      "execution_count": 2,
      "metadata": {
        "id": "bl8nIUPfqycr"
      },
      "outputs": [],
      "source": [
        "import pandas as pd\n",
        "import numpy as np\n",
        "import matplotlib.pyplot as plt\n",
        "import seaborn as sns\n",
        "\n",
        "from sklearn.model_selection import train_test_split,cross_val_score\n",
        "from sklearn.linear_model import LogisticRegression\n",
        "from sklearn.ensemble import RandomForestClassifier\n",
        "from sklearn.metrics import accuracy_score, precision_score, f1_score, roc_auc_score\n",
        "\n",
        "import joblib"
      ]
    },
    {
      "cell_type": "markdown",
      "metadata": {
        "id": "rGhKuwKDrAkc"
      },
      "source": [
        "## 1. Data inspection and intial analysis"
      ]
    },
    {
      "cell_type": "markdown",
      "metadata": {
        "id": "JYpVkY3nrCET"
      },
      "source": [
        "loading the dataset & inspect first 5 rows of data"
      ]
    },
    {
      "cell_type": "code",
      "execution_count": 4,
      "metadata": {
        "colab": {
          "base_uri": "https://localhost:8080/",
          "height": 224
        },
        "id": "K4RbcsrXrFyS",
        "outputId": "6251c78d-29a0-4739-975a-4deb73515e1e"
      },
      "outputs": [
        {
          "data": {
            "text/html": [
              "<div>\n",
              "<style scoped>\n",
              "    .dataframe tbody tr th:only-of-type {\n",
              "        vertical-align: middle;\n",
              "    }\n",
              "\n",
              "    .dataframe tbody tr th {\n",
              "        vertical-align: top;\n",
              "    }\n",
              "\n",
              "    .dataframe thead th {\n",
              "        text-align: right;\n",
              "    }\n",
              "</style>\n",
              "<table border=\"1\" class=\"dataframe\">\n",
              "  <thead>\n",
              "    <tr style=\"text-align: right;\">\n",
              "      <th></th>\n",
              "      <th>feature_0</th>\n",
              "      <th>feature_1</th>\n",
              "      <th>feature_2</th>\n",
              "      <th>feature_3</th>\n",
              "      <th>feature_4</th>\n",
              "      <th>feature_5</th>\n",
              "      <th>feature_6</th>\n",
              "      <th>feature_7</th>\n",
              "      <th>feature_8</th>\n",
              "      <th>feature_9</th>\n",
              "      <th>feature_10</th>\n",
              "      <th>feature_11</th>\n",
              "      <th>feature_12</th>\n",
              "      <th>feature_13</th>\n",
              "      <th>feature_14</th>\n",
              "      <th>target</th>\n",
              "    </tr>\n",
              "  </thead>\n",
              "  <tbody>\n",
              "    <tr>\n",
              "      <th>0</th>\n",
              "      <td>0.391943</td>\n",
              "      <td>1.386619</td>\n",
              "      <td>-0.140178</td>\n",
              "      <td>0.388745</td>\n",
              "      <td>-3.054169</td>\n",
              "      <td>-0.093261</td>\n",
              "      <td>-1.709212</td>\n",
              "      <td>2.857931</td>\n",
              "      <td>0.356881</td>\n",
              "      <td>-2.542477</td>\n",
              "      <td>0.155455</td>\n",
              "      <td>-1.306018</td>\n",
              "      <td>0.063715</td>\n",
              "      <td>1.172275</td>\n",
              "      <td>-1.302984</td>\n",
              "      <td>1</td>\n",
              "    </tr>\n",
              "    <tr>\n",
              "      <th>1</th>\n",
              "      <td>0.921189</td>\n",
              "      <td>-1.972131</td>\n",
              "      <td>0.073887</td>\n",
              "      <td>-1.372257</td>\n",
              "      <td>-2.172764</td>\n",
              "      <td>0.301242</td>\n",
              "      <td>1.104396</td>\n",
              "      <td>-0.048902</td>\n",
              "      <td>0.896611</td>\n",
              "      <td>4.437979</td>\n",
              "      <td>-2.222714</td>\n",
              "      <td>-2.141050</td>\n",
              "      <td>-2.381243</td>\n",
              "      <td>2.439874</td>\n",
              "      <td>1.146494</td>\n",
              "      <td>1</td>\n",
              "    </tr>\n",
              "    <tr>\n",
              "      <th>2</th>\n",
              "      <td>3.664802</td>\n",
              "      <td>-0.237792</td>\n",
              "      <td>1.422423</td>\n",
              "      <td>0.466005</td>\n",
              "      <td>2.051005</td>\n",
              "      <td>0.628103</td>\n",
              "      <td>-4.922358</td>\n",
              "      <td>0.204586</td>\n",
              "      <td>-2.880477</td>\n",
              "      <td>1.596624</td>\n",
              "      <td>0.843941</td>\n",
              "      <td>0.500198</td>\n",
              "      <td>-1.591305</td>\n",
              "      <td>0.053384</td>\n",
              "      <td>1.662664</td>\n",
              "      <td>1</td>\n",
              "    </tr>\n",
              "    <tr>\n",
              "      <th>3</th>\n",
              "      <td>-1.443205</td>\n",
              "      <td>1.203531</td>\n",
              "      <td>-0.523704</td>\n",
              "      <td>1.272438</td>\n",
              "      <td>1.110078</td>\n",
              "      <td>-0.785318</td>\n",
              "      <td>-1.270623</td>\n",
              "      <td>3.521826</td>\n",
              "      <td>-3.037687</td>\n",
              "      <td>0.292205</td>\n",
              "      <td>3.863921</td>\n",
              "      <td>0.058702</td>\n",
              "      <td>1.856966</td>\n",
              "      <td>-1.365796</td>\n",
              "      <td>-0.063612</td>\n",
              "      <td>1</td>\n",
              "    </tr>\n",
              "    <tr>\n",
              "      <th>4</th>\n",
              "      <td>-0.031723</td>\n",
              "      <td>-2.980087</td>\n",
              "      <td>-0.571903</td>\n",
              "      <td>0.527606</td>\n",
              "      <td>-4.355382</td>\n",
              "      <td>1.658870</td>\n",
              "      <td>0.028287</td>\n",
              "      <td>1.207216</td>\n",
              "      <td>-0.963811</td>\n",
              "      <td>0.245698</td>\n",
              "      <td>-0.699508</td>\n",
              "      <td>-1.290597</td>\n",
              "      <td>-2.561109</td>\n",
              "      <td>-0.641112</td>\n",
              "      <td>-0.192754</td>\n",
              "      <td>0</td>\n",
              "    </tr>\n",
              "  </tbody>\n",
              "</table>\n",
              "</div>"
            ],
            "text/plain": [
              "   feature_0  feature_1  feature_2  feature_3  feature_4  feature_5  \\\n",
              "0   0.391943   1.386619  -0.140178   0.388745  -3.054169  -0.093261   \n",
              "1   0.921189  -1.972131   0.073887  -1.372257  -2.172764   0.301242   \n",
              "2   3.664802  -0.237792   1.422423   0.466005   2.051005   0.628103   \n",
              "3  -1.443205   1.203531  -0.523704   1.272438   1.110078  -0.785318   \n",
              "4  -0.031723  -2.980087  -0.571903   0.527606  -4.355382   1.658870   \n",
              "\n",
              "   feature_6  feature_7  feature_8  feature_9  feature_10  feature_11  \\\n",
              "0  -1.709212   2.857931   0.356881  -2.542477    0.155455   -1.306018   \n",
              "1   1.104396  -0.048902   0.896611   4.437979   -2.222714   -2.141050   \n",
              "2  -4.922358   0.204586  -2.880477   1.596624    0.843941    0.500198   \n",
              "3  -1.270623   3.521826  -3.037687   0.292205    3.863921    0.058702   \n",
              "4   0.028287   1.207216  -0.963811   0.245698   -0.699508   -1.290597   \n",
              "\n",
              "   feature_12  feature_13  feature_14  target  \n",
              "0    0.063715    1.172275   -1.302984       1  \n",
              "1   -2.381243    2.439874    1.146494       1  \n",
              "2   -1.591305    0.053384    1.662664       1  \n",
              "3    1.856966   -1.365796   -0.063612       1  \n",
              "4   -2.561109   -0.641112   -0.192754       0  "
            ]
          },
          "execution_count": 4,
          "metadata": {},
          "output_type": "execute_result"
        }
      ],
      "source": [
        "df = pd.read_csv('artifacts/dataset-1.csv')\n",
        "df.head()"
      ]
    },
    {
      "cell_type": "code",
      "execution_count": 5,
      "metadata": {
        "colab": {
          "base_uri": "https://localhost:8080/"
        },
        "id": "3ZdKLt1DrIjL",
        "outputId": "38229690-600c-4bf6-d2e8-ac8493060425"
      },
      "outputs": [
        {
          "name": "stdout",
          "output_type": "stream",
          "text": [
            "<class 'pandas.core.frame.DataFrame'>\n",
            "RangeIndex: 1000 entries, 0 to 999\n",
            "Data columns (total 16 columns):\n",
            " #   Column      Non-Null Count  Dtype  \n",
            "---  ------      --------------  -----  \n",
            " 0   feature_0   1000 non-null   float64\n",
            " 1   feature_1   1000 non-null   float64\n",
            " 2   feature_2   1000 non-null   float64\n",
            " 3   feature_3   1000 non-null   float64\n",
            " 4   feature_4   1000 non-null   float64\n",
            " 5   feature_5   1000 non-null   float64\n",
            " 6   feature_6   1000 non-null   float64\n",
            " 7   feature_7   1000 non-null   float64\n",
            " 8   feature_8   1000 non-null   float64\n",
            " 9   feature_9   1000 non-null   float64\n",
            " 10  feature_10  1000 non-null   float64\n",
            " 11  feature_11  1000 non-null   float64\n",
            " 12  feature_12  1000 non-null   float64\n",
            " 13  feature_13  1000 non-null   float64\n",
            " 14  feature_14  1000 non-null   float64\n",
            " 15  target      1000 non-null   int64  \n",
            "dtypes: float64(15), int64(1)\n",
            "memory usage: 125.1 KB\n"
          ]
        }
      ],
      "source": [
        "df.info()"
      ]
    },
    {
      "cell_type": "code",
      "execution_count": 6,
      "metadata": {
        "colab": {
          "base_uri": "https://localhost:8080/",
          "height": 317
        },
        "id": "h1vtJEMtrIdM",
        "outputId": "01e6c441-70c4-4526-a773-c7e77750a048"
      },
      "outputs": [
        {
          "data": {
            "text/html": [
              "<div>\n",
              "<style scoped>\n",
              "    .dataframe tbody tr th:only-of-type {\n",
              "        vertical-align: middle;\n",
              "    }\n",
              "\n",
              "    .dataframe tbody tr th {\n",
              "        vertical-align: top;\n",
              "    }\n",
              "\n",
              "    .dataframe thead th {\n",
              "        text-align: right;\n",
              "    }\n",
              "</style>\n",
              "<table border=\"1\" class=\"dataframe\">\n",
              "  <thead>\n",
              "    <tr style=\"text-align: right;\">\n",
              "      <th></th>\n",
              "      <th>feature_0</th>\n",
              "      <th>feature_1</th>\n",
              "      <th>feature_2</th>\n",
              "      <th>feature_3</th>\n",
              "      <th>feature_4</th>\n",
              "      <th>feature_5</th>\n",
              "      <th>feature_6</th>\n",
              "      <th>feature_7</th>\n",
              "      <th>feature_8</th>\n",
              "      <th>feature_9</th>\n",
              "      <th>feature_10</th>\n",
              "      <th>feature_11</th>\n",
              "      <th>feature_12</th>\n",
              "      <th>feature_13</th>\n",
              "      <th>feature_14</th>\n",
              "      <th>target</th>\n",
              "    </tr>\n",
              "  </thead>\n",
              "  <tbody>\n",
              "    <tr>\n",
              "      <th>count</th>\n",
              "      <td>1000.000000</td>\n",
              "      <td>1000.000000</td>\n",
              "      <td>1000.000000</td>\n",
              "      <td>1000.000000</td>\n",
              "      <td>1000.000000</td>\n",
              "      <td>1000.000000</td>\n",
              "      <td>1000.000000</td>\n",
              "      <td>1000.000000</td>\n",
              "      <td>1000.000000</td>\n",
              "      <td>1000.000000</td>\n",
              "      <td>1000.000000</td>\n",
              "      <td>1000.000000</td>\n",
              "      <td>1000.000000</td>\n",
              "      <td>1000.000000</td>\n",
              "      <td>1000.000000</td>\n",
              "      <td>1000.00000</td>\n",
              "    </tr>\n",
              "    <tr>\n",
              "      <th>mean</th>\n",
              "      <td>0.018832</td>\n",
              "      <td>0.053827</td>\n",
              "      <td>0.002171</td>\n",
              "      <td>0.561165</td>\n",
              "      <td>-1.611160</td>\n",
              "      <td>-0.056954</td>\n",
              "      <td>-0.580995</td>\n",
              "      <td>0.598664</td>\n",
              "      <td>0.735379</td>\n",
              "      <td>-0.011629</td>\n",
              "      <td>-0.574440</td>\n",
              "      <td>-0.618758</td>\n",
              "      <td>-0.577339</td>\n",
              "      <td>0.054234</td>\n",
              "      <td>0.020933</td>\n",
              "      <td>0.50000</td>\n",
              "    </tr>\n",
              "    <tr>\n",
              "      <th>std</th>\n",
              "      <td>2.201349</td>\n",
              "      <td>2.233755</td>\n",
              "      <td>0.976832</td>\n",
              "      <td>2.013021</td>\n",
              "      <td>3.833798</td>\n",
              "      <td>0.986544</td>\n",
              "      <td>1.959744</td>\n",
              "      <td>2.090510</td>\n",
              "      <td>2.265678</td>\n",
              "      <td>2.269974</td>\n",
              "      <td>3.743904</td>\n",
              "      <td>2.180531</td>\n",
              "      <td>2.130474</td>\n",
              "      <td>1.017346</td>\n",
              "      <td>2.115438</td>\n",
              "      <td>0.50025</td>\n",
              "    </tr>\n",
              "    <tr>\n",
              "      <th>min</th>\n",
              "      <td>-7.230162</td>\n",
              "      <td>-7.065339</td>\n",
              "      <td>-2.966753</td>\n",
              "      <td>-5.908949</td>\n",
              "      <td>-15.108025</td>\n",
              "      <td>-3.375579</td>\n",
              "      <td>-6.427178</td>\n",
              "      <td>-7.655322</td>\n",
              "      <td>-7.125613</td>\n",
              "      <td>-7.017417</td>\n",
              "      <td>-13.378351</td>\n",
              "      <td>-7.971723</td>\n",
              "      <td>-8.905917</td>\n",
              "      <td>-3.232565</td>\n",
              "      <td>-6.384692</td>\n",
              "      <td>0.00000</td>\n",
              "    </tr>\n",
              "    <tr>\n",
              "      <th>25%</th>\n",
              "      <td>-1.473205</td>\n",
              "      <td>-1.421113</td>\n",
              "      <td>-0.680769</td>\n",
              "      <td>-0.602223</td>\n",
              "      <td>-4.168861</td>\n",
              "      <td>-0.656857</td>\n",
              "      <td>-1.902295</td>\n",
              "      <td>-0.767833</td>\n",
              "      <td>-0.737220</td>\n",
              "      <td>-1.558939</td>\n",
              "      <td>-3.068155</td>\n",
              "      <td>-2.005173</td>\n",
              "      <td>-2.030928</td>\n",
              "      <td>-0.650917</td>\n",
              "      <td>-1.375869</td>\n",
              "      <td>0.00000</td>\n",
              "    </tr>\n",
              "    <tr>\n",
              "      <th>50%</th>\n",
              "      <td>0.167999</td>\n",
              "      <td>0.168612</td>\n",
              "      <td>0.004955</td>\n",
              "      <td>0.718328</td>\n",
              "      <td>-1.578983</td>\n",
              "      <td>-0.077938</td>\n",
              "      <td>-0.657062</td>\n",
              "      <td>0.557735</td>\n",
              "      <td>0.812725</td>\n",
              "      <td>0.027653</td>\n",
              "      <td>-0.670406</td>\n",
              "      <td>-0.645520</td>\n",
              "      <td>-0.501724</td>\n",
              "      <td>0.054040</td>\n",
              "      <td>0.072902</td>\n",
              "      <td>0.50000</td>\n",
              "    </tr>\n",
              "    <tr>\n",
              "      <th>75%</th>\n",
              "      <td>1.567892</td>\n",
              "      <td>1.590728</td>\n",
              "      <td>0.612676</td>\n",
              "      <td>1.986342</td>\n",
              "      <td>0.946093</td>\n",
              "      <td>0.579376</td>\n",
              "      <td>0.746947</td>\n",
              "      <td>2.033430</td>\n",
              "      <td>2.313361</td>\n",
              "      <td>1.506034</td>\n",
              "      <td>1.827826</td>\n",
              "      <td>0.815433</td>\n",
              "      <td>0.993780</td>\n",
              "      <td>0.767593</td>\n",
              "      <td>1.523287</td>\n",
              "      <td>1.00000</td>\n",
              "    </tr>\n",
              "    <tr>\n",
              "      <th>max</th>\n",
              "      <td>8.437993</td>\n",
              "      <td>7.221821</td>\n",
              "      <td>3.284118</td>\n",
              "      <td>7.701492</td>\n",
              "      <td>10.254772</td>\n",
              "      <td>3.040687</td>\n",
              "      <td>7.103293</td>\n",
              "      <td>6.565330</td>\n",
              "      <td>6.590253</td>\n",
              "      <td>8.089919</td>\n",
              "      <td>12.450599</td>\n",
              "      <td>6.689389</td>\n",
              "      <td>4.901133</td>\n",
              "      <td>3.428910</td>\n",
              "      <td>7.032418</td>\n",
              "      <td>1.00000</td>\n",
              "    </tr>\n",
              "  </tbody>\n",
              "</table>\n",
              "</div>"
            ],
            "text/plain": [
              "         feature_0    feature_1    feature_2    feature_3    feature_4  \\\n",
              "count  1000.000000  1000.000000  1000.000000  1000.000000  1000.000000   \n",
              "mean      0.018832     0.053827     0.002171     0.561165    -1.611160   \n",
              "std       2.201349     2.233755     0.976832     2.013021     3.833798   \n",
              "min      -7.230162    -7.065339    -2.966753    -5.908949   -15.108025   \n",
              "25%      -1.473205    -1.421113    -0.680769    -0.602223    -4.168861   \n",
              "50%       0.167999     0.168612     0.004955     0.718328    -1.578983   \n",
              "75%       1.567892     1.590728     0.612676     1.986342     0.946093   \n",
              "max       8.437993     7.221821     3.284118     7.701492    10.254772   \n",
              "\n",
              "         feature_5    feature_6    feature_7    feature_8    feature_9  \\\n",
              "count  1000.000000  1000.000000  1000.000000  1000.000000  1000.000000   \n",
              "mean     -0.056954    -0.580995     0.598664     0.735379    -0.011629   \n",
              "std       0.986544     1.959744     2.090510     2.265678     2.269974   \n",
              "min      -3.375579    -6.427178    -7.655322    -7.125613    -7.017417   \n",
              "25%      -0.656857    -1.902295    -0.767833    -0.737220    -1.558939   \n",
              "50%      -0.077938    -0.657062     0.557735     0.812725     0.027653   \n",
              "75%       0.579376     0.746947     2.033430     2.313361     1.506034   \n",
              "max       3.040687     7.103293     6.565330     6.590253     8.089919   \n",
              "\n",
              "        feature_10   feature_11   feature_12   feature_13   feature_14  \\\n",
              "count  1000.000000  1000.000000  1000.000000  1000.000000  1000.000000   \n",
              "mean     -0.574440    -0.618758    -0.577339     0.054234     0.020933   \n",
              "std       3.743904     2.180531     2.130474     1.017346     2.115438   \n",
              "min     -13.378351    -7.971723    -8.905917    -3.232565    -6.384692   \n",
              "25%      -3.068155    -2.005173    -2.030928    -0.650917    -1.375869   \n",
              "50%      -0.670406    -0.645520    -0.501724     0.054040     0.072902   \n",
              "75%       1.827826     0.815433     0.993780     0.767593     1.523287   \n",
              "max      12.450599     6.689389     4.901133     3.428910     7.032418   \n",
              "\n",
              "           target  \n",
              "count  1000.00000  \n",
              "mean      0.50000  \n",
              "std       0.50025  \n",
              "min       0.00000  \n",
              "25%       0.00000  \n",
              "50%       0.50000  \n",
              "75%       1.00000  \n",
              "max       1.00000  "
            ]
          },
          "execution_count": 6,
          "metadata": {},
          "output_type": "execute_result"
        }
      ],
      "source": [
        "df.describe()"
      ]
    },
    {
      "cell_type": "markdown",
      "metadata": {
        "id": "M-aec1jUrWAT"
      },
      "source": [
        "Notes on inital analysis:\n",
        "\n",
        "\n",
        "*   Structure: The dataset contains 1000 rows and 16 columns.\n",
        "*   Features and Target: There are 15 feature columns (feature_0 to feature_14) and one target column.\n",
        "*   Data Types: All features are numerical (float64), and the target variable is an integer (int64), which is suitable for a classification task.\n",
        "*   Missing Values: The output from df.info() shows that every column has 1000 non-null values, confirming that there are no missing values to handle.\n",
        "*   Balanced Classes: The target column has a mean of 0.5, which tells us the dataset is perfectly balanced with 500 samples for class 0 and 500 for class 1.\n",
        "*   Potential Outliers: The summary from df.describe() reveals that many features have a very wide range between their min and max values compared to their mean. specially feature_4, feature_10 This is a strong indicator that we may have outliers to address.\n",
        "\n",
        "\n",
        "\n",
        "\n",
        "\n",
        "\n"
      ]
    },
    {
      "cell_type": "markdown",
      "metadata": {
        "id": "k0SmgBnprcqY"
      },
      "source": [
        "## 2. Outlier adjustments"
      ]
    },
    {
      "cell_type": "code",
      "execution_count": 7,
      "metadata": {
        "colab": {
          "base_uri": "https://localhost:8080/",
          "height": 420
        },
        "id": "cPKVcmI4rIQ8",
        "outputId": "cb7c9323-dbb0-4c91-8362-4fddb474ba87"
      },
      "outputs": [
        {
          "data": {
            "image/png": "[encoded data removed]",
            "text/plain": [
              "<Figure size 1152x432 with 2 Axes>"
            ]
          },
          "metadata": {
            "needs_background": "light"
          },
          "output_type": "display_data"
        }
      ],
      "source": [
        "df_copy = df.copy()\n",
        "\n",
        "def outlier_plots(data_frame, save_fig_name):\n",
        "  fig, axes = plt.subplots(1, 2, figsize=(16, 6))\n",
        "  fig.suptitle('Visualizing Outliers Before Handling')\n",
        "\n",
        "  # Create a box plot for feature_4\n",
        "  sns.boxplot(ax=axes[0], data=df_copy, y='feature_4')\n",
        "  axes[0].set_title('Box Plot of feature_4')\n",
        "\n",
        "  # Create a box plot for feature_10\n",
        "  sns.boxplot(ax=axes[1], data=df_copy, y='feature_10')\n",
        "  axes[1].set_title('Box Plot of feature_10')\n",
        "\n",
        "  plt.savefig(save_fig_name)\n",
        "  plt.show()\n",
        "\n",
        "  return\n",
        "\n",
        "outlier_plots(df_copy, 'outlier_boxplots_before.png')"
      ]
    },
    {
      "cell_type": "markdown",
      "metadata": {
        "id": "6f3Pez6PrnHH"
      },
      "source": [
        "the **Interquartile Range (IQR)** method for handling outliers primarily. It effectively mitigates the influence of extreme values without making risky assumptions about our data's distribution and without forcing us to delete valuable data. It's a robust, reliable, and straightforward first step in cleaning our dataset for modeling."
      ]
    },
    {
      "cell_type": "code",
      "execution_count": 9,
      "metadata": {
        "colab": {
          "base_uri": "https://localhost:8080/",
          "height": 317
        },
        "id": "EDwNlUlmrjO9",
        "outputId": "95cba0d8-2956-4e37-8b7b-8f20462323fc"
      },
      "outputs": [
        {
          "data": {
            "text/html": [
              "<div>\n",
              "<style scoped>\n",
              "    .dataframe tbody tr th:only-of-type {\n",
              "        vertical-align: middle;\n",
              "    }\n",
              "\n",
              "    .dataframe tbody tr th {\n",
              "        vertical-align: top;\n",
              "    }\n",
              "\n",
              "    .dataframe thead th {\n",
              "        text-align: right;\n",
              "    }\n",
              "</style>\n",
              "<table border=\"1\" class=\"dataframe\">\n",
              "  <thead>\n",
              "    <tr style=\"text-align: right;\">\n",
              "      <th></th>\n",
              "      <th>feature_0</th>\n",
              "      <th>feature_1</th>\n",
              "      <th>feature_2</th>\n",
              "      <th>feature_3</th>\n",
              "      <th>feature_4</th>\n",
              "      <th>feature_5</th>\n",
              "      <th>feature_6</th>\n",
              "      <th>feature_7</th>\n",
              "      <th>feature_8</th>\n",
              "      <th>feature_9</th>\n",
              "      <th>feature_10</th>\n",
              "      <th>feature_11</th>\n",
              "      <th>feature_12</th>\n",
              "      <th>feature_13</th>\n",
              "      <th>feature_14</th>\n",
              "      <th>target</th>\n",
              "    </tr>\n",
              "  </thead>\n",
              "  <tbody>\n",
              "    <tr>\n",
              "      <th>count</th>\n",
              "      <td>1000.000000</td>\n",
              "      <td>1000.000000</td>\n",
              "      <td>1000.000000</td>\n",
              "      <td>1000.000000</td>\n",
              "      <td>1000.000000</td>\n",
              "      <td>1000.000000</td>\n",
              "      <td>1000.000000</td>\n",
              "      <td>1000.000000</td>\n",
              "      <td>1000.000000</td>\n",
              "      <td>1000.000000</td>\n",
              "      <td>1000.000000</td>\n",
              "      <td>1000.000000</td>\n",
              "      <td>1000.000000</td>\n",
              "      <td>1000.000000</td>\n",
              "      <td>1000.000000</td>\n",
              "      <td>1000.00000</td>\n",
              "    </tr>\n",
              "    <tr>\n",
              "      <th>mean</th>\n",
              "      <td>0.018697</td>\n",
              "      <td>0.057552</td>\n",
              "      <td>0.001266</td>\n",
              "      <td>0.567886</td>\n",
              "      <td>-1.609294</td>\n",
              "      <td>-0.055641</td>\n",
              "      <td>-0.586448</td>\n",
              "      <td>0.602097</td>\n",
              "      <td>0.738330</td>\n",
              "      <td>-0.015233</td>\n",
              "      <td>-0.579265</td>\n",
              "      <td>-0.617005</td>\n",
              "      <td>-0.572319</td>\n",
              "      <td>0.053855</td>\n",
              "      <td>0.020888</td>\n",
              "      <td>0.50000</td>\n",
              "    </tr>\n",
              "    <tr>\n",
              "      <th>std</th>\n",
              "      <td>2.187281</td>\n",
              "      <td>2.216415</td>\n",
              "      <td>0.969710</td>\n",
              "      <td>1.980866</td>\n",
              "      <td>3.795543</td>\n",
              "      <td>0.970309</td>\n",
              "      <td>1.936367</td>\n",
              "      <td>2.075628</td>\n",
              "      <td>2.256939</td>\n",
              "      <td>2.253735</td>\n",
              "      <td>3.703945</td>\n",
              "      <td>2.148902</td>\n",
              "      <td>2.114335</td>\n",
              "      <td>1.010030</td>\n",
              "      <td>2.107349</td>\n",
              "      <td>0.50025</td>\n",
              "    </tr>\n",
              "    <tr>\n",
              "      <th>min</th>\n",
              "      <td>-6.034851</td>\n",
              "      <td>-5.938873</td>\n",
              "      <td>-2.620936</td>\n",
              "      <td>-4.485070</td>\n",
              "      <td>-11.841291</td>\n",
              "      <td>-2.511207</td>\n",
              "      <td>-5.876159</td>\n",
              "      <td>-4.969728</td>\n",
              "      <td>-5.313092</td>\n",
              "      <td>-6.156400</td>\n",
              "      <td>-10.412126</td>\n",
              "      <td>-6.236081</td>\n",
              "      <td>-6.567991</td>\n",
              "      <td>-2.778682</td>\n",
              "      <td>-5.724603</td>\n",
              "      <td>0.00000</td>\n",
              "    </tr>\n",
              "    <tr>\n",
              "      <th>25%</th>\n",
              "      <td>-1.473205</td>\n",
              "      <td>-1.421113</td>\n",
              "      <td>-0.680769</td>\n",
              "      <td>-0.602223</td>\n",
              "      <td>-4.168861</td>\n",
              "      <td>-0.656857</td>\n",
              "      <td>-1.902295</td>\n",
              "      <td>-0.767833</td>\n",
              "      <td>-0.737220</td>\n",
              "      <td>-1.558939</td>\n",
              "      <td>-3.068155</td>\n",
              "      <td>-2.005173</td>\n",
              "      <td>-2.030928</td>\n",
              "      <td>-0.650917</td>\n",
              "      <td>-1.375869</td>\n",
              "      <td>0.00000</td>\n",
              "    </tr>\n",
              "    <tr>\n",
              "      <th>50%</th>\n",
              "      <td>0.167999</td>\n",
              "      <td>0.168612</td>\n",
              "      <td>0.004955</td>\n",
              "      <td>0.718328</td>\n",
              "      <td>-1.578983</td>\n",
              "      <td>-0.077938</td>\n",
              "      <td>-0.657062</td>\n",
              "      <td>0.557735</td>\n",
              "      <td>0.812725</td>\n",
              "      <td>0.027653</td>\n",
              "      <td>-0.670406</td>\n",
              "      <td>-0.645520</td>\n",
              "      <td>-0.501724</td>\n",
              "      <td>0.054040</td>\n",
              "      <td>0.072902</td>\n",
              "      <td>0.50000</td>\n",
              "    </tr>\n",
              "    <tr>\n",
              "      <th>75%</th>\n",
              "      <td>1.567892</td>\n",
              "      <td>1.590728</td>\n",
              "      <td>0.612676</td>\n",
              "      <td>1.986342</td>\n",
              "      <td>0.946093</td>\n",
              "      <td>0.579376</td>\n",
              "      <td>0.746947</td>\n",
              "      <td>2.033430</td>\n",
              "      <td>2.313361</td>\n",
              "      <td>1.506034</td>\n",
              "      <td>1.827826</td>\n",
              "      <td>0.815433</td>\n",
              "      <td>0.993780</td>\n",
              "      <td>0.767593</td>\n",
              "      <td>1.523287</td>\n",
              "      <td>1.00000</td>\n",
              "    </tr>\n",
              "    <tr>\n",
              "      <th>max</th>\n",
              "      <td>6.129538</td>\n",
              "      <td>6.108488</td>\n",
              "      <td>2.552843</td>\n",
              "      <td>5.869189</td>\n",
              "      <td>8.618523</td>\n",
              "      <td>2.433726</td>\n",
              "      <td>4.720811</td>\n",
              "      <td>6.235324</td>\n",
              "      <td>6.590253</td>\n",
              "      <td>6.103494</td>\n",
              "      <td>9.171797</td>\n",
              "      <td>5.046341</td>\n",
              "      <td>4.901133</td>\n",
              "      <td>2.895357</td>\n",
              "      <td>5.872022</td>\n",
              "      <td>1.00000</td>\n",
              "    </tr>\n",
              "  </tbody>\n",
              "</table>\n",
              "</div>"
            ],
            "text/plain": [
              "         feature_0    feature_1    feature_2    feature_3    feature_4  \\\n",
              "count  1000.000000  1000.000000  1000.000000  1000.000000  1000.000000   \n",
              "mean      0.018697     0.057552     0.001266     0.567886    -1.609294   \n",
              "std       2.187281     2.216415     0.969710     1.980866     3.795543   \n",
              "min      -6.034851    -5.938873    -2.620936    -4.485070   -11.841291   \n",
              "25%      -1.473205    -1.421113    -0.680769    -0.602223    -4.168861   \n",
              "50%       0.167999     0.168612     0.004955     0.718328    -1.578983   \n",
              "75%       1.567892     1.590728     0.612676     1.986342     0.946093   \n",
              "max       6.129538     6.108488     2.552843     5.869189     8.618523   \n",
              "\n",
              "         feature_5    feature_6    feature_7    feature_8    feature_9  \\\n",
              "count  1000.000000  1000.000000  1000.000000  1000.000000  1000.000000   \n",
              "mean     -0.055641    -0.586448     0.602097     0.738330    -0.015233   \n",
              "std       0.970309     1.936367     2.075628     2.256939     2.253735   \n",
              "min      -2.511207    -5.876159    -4.969728    -5.313092    -6.156400   \n",
              "25%      -0.656857    -1.902295    -0.767833    -0.737220    -1.558939   \n",
              "50%      -0.077938    -0.657062     0.557735     0.812725     0.027653   \n",
              "75%       0.579376     0.746947     2.033430     2.313361     1.506034   \n",
              "max       2.433726     4.720811     6.235324     6.590253     6.103494   \n",
              "\n",
              "        feature_10   feature_11   feature_12   feature_13   feature_14  \\\n",
              "count  1000.000000  1000.000000  1000.000000  1000.000000  1000.000000   \n",
              "mean     -0.579265    -0.617005    -0.572319     0.053855     0.020888   \n",
              "std       3.703945     2.148902     2.114335     1.010030     2.107349   \n",
              "min     -10.412126    -6.236081    -6.567991    -2.778682    -5.724603   \n",
              "25%      -3.068155    -2.005173    -2.030928    -0.650917    -1.375869   \n",
              "50%      -0.670406    -0.645520    -0.501724     0.054040     0.072902   \n",
              "75%       1.827826     0.815433     0.993780     0.767593     1.523287   \n",
              "max       9.171797     5.046341     4.901133     2.895357     5.872022   \n",
              "\n",
              "           target  \n",
              "count  1000.00000  \n",
              "mean      0.50000  \n",
              "std       0.50025  \n",
              "min       0.00000  \n",
              "25%       0.00000  \n",
              "50%       0.50000  \n",
              "75%       1.00000  \n",
              "max       1.00000  "
            ]
          },
          "execution_count": 9,
          "metadata": {},
          "output_type": "execute_result"
        }
      ],
      "source": [
        "features_to_clean = df_copy.columns.drop('target')\n",
        "\n",
        "for feature in features_to_clean:\n",
        "    # Calculate the first quartile (Q1)\n",
        "    Q1 = df_copy[feature].quantile(0.25)\n",
        "\n",
        "    # Calculate the third quartile (Q3)\n",
        "    Q3 = df_copy[feature].quantile(0.75)\n",
        "\n",
        "    # Calculate the Interquartile Range (IQR)\n",
        "    IQR = Q3 - Q1\n",
        "\n",
        "    # Define the lower and upper bounds for outlier detection\n",
        "    lower_bound = Q1 - 1.5 * IQR\n",
        "    upper_bound = Q3 + 1.5 * IQR\n",
        "\n",
        "    # Cap the outliers\n",
        "    df_copy[feature] = np.where(df_copy[feature] < lower_bound, lower_bound, df_copy[feature])\n",
        "    df_copy[feature] = np.where(df_copy[feature] > upper_bound, upper_bound, df_copy[feature])\n",
        "\n",
        "df_copy.describe()"
      ]
    },
    {
      "cell_type": "markdown",
      "metadata": {
        "id": "xXTSAKXwrujn"
      },
      "source": [
        "Comparing the describe() output from before and after capping clearly shows our success. For example, let's look at feature_4:\n",
        "\n",
        "* Before: The min was -15.11 and the max was 10.25.\n",
        "* After: The min is now -11.84 and the max is 8.62.\n",
        "\n",
        "The extreme values have been reined in, which will help create a more robust and stable model."
      ]
    },
    {
      "cell_type": "code",
      "execution_count": 10,
      "metadata": {
        "colab": {
          "base_uri": "https://localhost:8080/",
          "height": 420
        },
        "id": "IZL5g49CrjH7",
        "outputId": "352def1f-307e-4e37-cfb4-ad0f11f763f7"
      },
      "outputs": [
        {
          "data": {
            "image/png": "[encoded data removed]",
            "text/plain": [
              "<Figure size 1152x432 with 2 Axes>"
            ]
          },
          "metadata": {
            "needs_background": "light"
          },
          "output_type": "display_data"
        }
      ],
      "source": [
        "outlier_plots(df_copy, 'outlier_boxplots_after.png')"
      ]
    },
    {
      "cell_type": "markdown",
      "metadata": {
        "id": "jcA59nU3r2Fk"
      },
      "source": [
        "we can confirm visually, by running the box plot code on df_copy, and we would see no points outside the whiskers.\n",
        "\n",
        "now saving the dataset."
      ]
    },
    {
      "cell_type": "code",
      "execution_count": 11,
      "metadata": {
        "colab": {
          "base_uri": "https://localhost:8080/"
        },
        "id": "zXCcLu6crjB4",
        "outputId": "20f81c9c-87d8-49a9-9514-ea7d5113bb8a"
      },
      "outputs": [
        {
          "name": "stdout",
          "output_type": "stream",
          "text": [
            "Cleaned dataset saved to 'dataset_cleaned.csv'\n"
          ]
        }
      ],
      "source": [
        "df_copy.to_csv('dataset_cleaned.csv', index=False)\n",
        "\n",
        "print(\"Cleaned dataset saved to 'dataset_cleaned.csv'\")"
      ]
    },
    {
      "cell_type": "markdown",
      "metadata": {
        "id": "v2gMv3SYsA2O"
      },
      "source": [
        "## 3. Feature Engineering"
      ]
    },
    {
      "cell_type": "code",
      "execution_count": 13,
      "metadata": {
        "colab": {
          "base_uri": "https://localhost:8080/"
        },
        "id": "PCcOwcofsAYb",
        "outputId": "75c3b846-fa85-4a4c-d9d7-c79bab485e7e"
      },
      "outputs": [
        {
          "name": "stdout",
          "output_type": "stream",
          "text": [
            "Correlation of each feature with the target variable:\n",
            "target        1.000000\n",
            "feature_3     0.309822\n",
            "feature_7     0.279585\n",
            "feature_12    0.269907\n",
            "feature_11    0.231804\n",
            "feature_10    0.158396\n",
            "feature_13    0.086531\n",
            "feature_2     0.036025\n",
            "feature_0     0.002695\n",
            "feature_5    -0.001420\n",
            "feature_1    -0.017931\n",
            "feature_4    -0.039213\n",
            "feature_14   -0.042420\n",
            "feature_6    -0.262881\n",
            "feature_8    -0.281113\n",
            "feature_9    -0.499866\n",
            "Name: target, dtype: float64\n"
          ]
        }
      ],
      "source": [
        "\n",
        "df = pd.read_csv('dataset_cleaned.csv')\n",
        "correlation_matrix = df.corr()\n",
        "corr_with_target = correlation_matrix['target'].sort_values(ascending=False)\n",
        "\n",
        "print(\"Correlation of each feature with the target variable:\")\n",
        "print(corr_with_target)"
      ]
    },
    {
      "cell_type": "markdown",
      "metadata": {
        "id": "Ig7lzJATsI2Z"
      },
      "source": [
        "**Analysis of Your Correlation Output:**\n",
        "\n",
        "Above results show that:\n",
        "\n",
        "* The features with the strongest positive correlation to the *target* are *feature_3*, *feature_7*, and *feature_12*.\n",
        "\n",
        "* The feature with the strongest negative correlation is *feature_9* by a large margin, followed by *feature_8* and *feature_6*.\n",
        "\n",
        "\n",
        "This leads us to a much more powerful and justifiable feature engineering plan:\n",
        "\n",
        "1. **positive_predictors_sum:** We'll sum the top three positive predictors *(feature_3, feature_7, feature_12)*. This combines their predictive power into a single, strong feature.\n",
        "\n",
        "2. **main_interaction:** We'll multiply the strongest positive predictor *(feature_3)* with the strongest negative predictor *(feature_9)*. This creates an interaction term that captures the tension between the most significant positive and negative forces acting on our target.\n",
        "\n",
        "The entire purpose of these features is to amplify signals that are **already known to be predictive of the target** variable. We are explicitly helping the model by combining features that have a demonstrated relationship with the outcome we want to predict."
      ]
    },
    {
      "cell_type": "code",
      "execution_count": 14,
      "metadata": {
        "colab": {
          "base_uri": "https://localhost:8080/",
          "height": 241
        },
        "id": "pFrvVvjGri08",
        "outputId": "139895a0-1238-420b-e098-d8149c908429"
      },
      "outputs": [
        {
          "name": "stdout",
          "output_type": "stream",
          "text": [
            "Successfully created two new, data-driven features.\n"
          ]
        },
        {
          "data": {
            "text/html": [
              "<div>\n",
              "<style scoped>\n",
              "    .dataframe tbody tr th:only-of-type {\n",
              "        vertical-align: middle;\n",
              "    }\n",
              "\n",
              "    .dataframe tbody tr th {\n",
              "        vertical-align: top;\n",
              "    }\n",
              "\n",
              "    .dataframe thead th {\n",
              "        text-align: right;\n",
              "    }\n",
              "</style>\n",
              "<table border=\"1\" class=\"dataframe\">\n",
              "  <thead>\n",
              "    <tr style=\"text-align: right;\">\n",
              "      <th></th>\n",
              "      <th>feature_0</th>\n",
              "      <th>feature_1</th>\n",
              "      <th>feature_2</th>\n",
              "      <th>feature_3</th>\n",
              "      <th>feature_4</th>\n",
              "      <th>feature_5</th>\n",
              "      <th>feature_6</th>\n",
              "      <th>feature_7</th>\n",
              "      <th>feature_8</th>\n",
              "      <th>feature_9</th>\n",
              "      <th>feature_10</th>\n",
              "      <th>feature_11</th>\n",
              "      <th>feature_12</th>\n",
              "      <th>feature_13</th>\n",
              "      <th>feature_14</th>\n",
              "      <th>target</th>\n",
              "      <th>positive_predictors_sum</th>\n",
              "      <th>main_interaction</th>\n",
              "    </tr>\n",
              "  </thead>\n",
              "  <tbody>\n",
              "    <tr>\n",
              "      <th>0</th>\n",
              "      <td>0.391943</td>\n",
              "      <td>1.386619</td>\n",
              "      <td>-0.140178</td>\n",
              "      <td>0.388745</td>\n",
              "      <td>-3.054169</td>\n",
              "      <td>-0.093261</td>\n",
              "      <td>-1.709212</td>\n",
              "      <td>2.857931</td>\n",
              "      <td>0.356881</td>\n",
              "      <td>-2.542477</td>\n",
              "      <td>0.155455</td>\n",
              "      <td>-1.306018</td>\n",
              "      <td>0.063715</td>\n",
              "      <td>1.172275</td>\n",
              "      <td>-1.302984</td>\n",
              "      <td>1</td>\n",
              "      <td>3.310391</td>\n",
              "      <td>-0.988375</td>\n",
              "    </tr>\n",
              "    <tr>\n",
              "      <th>1</th>\n",
              "      <td>0.921189</td>\n",
              "      <td>-1.972131</td>\n",
              "      <td>0.073887</td>\n",
              "      <td>-1.372257</td>\n",
              "      <td>-2.172764</td>\n",
              "      <td>0.301242</td>\n",
              "      <td>1.104396</td>\n",
              "      <td>-0.048902</td>\n",
              "      <td>0.896611</td>\n",
              "      <td>4.437979</td>\n",
              "      <td>-2.222714</td>\n",
              "      <td>-2.141050</td>\n",
              "      <td>-2.381243</td>\n",
              "      <td>2.439874</td>\n",
              "      <td>1.146494</td>\n",
              "      <td>1</td>\n",
              "      <td>-3.802402</td>\n",
              "      <td>-6.090047</td>\n",
              "    </tr>\n",
              "    <tr>\n",
              "      <th>2</th>\n",
              "      <td>3.664802</td>\n",
              "      <td>-0.237792</td>\n",
              "      <td>1.422423</td>\n",
              "      <td>0.466005</td>\n",
              "      <td>2.051005</td>\n",
              "      <td>0.628103</td>\n",
              "      <td>-4.922358</td>\n",
              "      <td>0.204586</td>\n",
              "      <td>-2.880477</td>\n",
              "      <td>1.596624</td>\n",
              "      <td>0.843941</td>\n",
              "      <td>0.500198</td>\n",
              "      <td>-1.591305</td>\n",
              "      <td>0.053384</td>\n",
              "      <td>1.662664</td>\n",
              "      <td>1</td>\n",
              "      <td>-0.920713</td>\n",
              "      <td>0.744035</td>\n",
              "    </tr>\n",
              "    <tr>\n",
              "      <th>3</th>\n",
              "      <td>-1.443205</td>\n",
              "      <td>1.203531</td>\n",
              "      <td>-0.523704</td>\n",
              "      <td>1.272438</td>\n",
              "      <td>1.110078</td>\n",
              "      <td>-0.785318</td>\n",
              "      <td>-1.270623</td>\n",
              "      <td>3.521826</td>\n",
              "      <td>-3.037687</td>\n",
              "      <td>0.292205</td>\n",
              "      <td>3.863921</td>\n",
              "      <td>0.058702</td>\n",
              "      <td>1.856966</td>\n",
              "      <td>-1.365796</td>\n",
              "      <td>-0.063612</td>\n",
              "      <td>1</td>\n",
              "      <td>6.651231</td>\n",
              "      <td>0.371812</td>\n",
              "    </tr>\n",
              "    <tr>\n",
              "      <th>4</th>\n",
              "      <td>-0.031723</td>\n",
              "      <td>-2.980087</td>\n",
              "      <td>-0.571903</td>\n",
              "      <td>0.527606</td>\n",
              "      <td>-4.355382</td>\n",
              "      <td>1.658870</td>\n",
              "      <td>0.028287</td>\n",
              "      <td>1.207216</td>\n",
              "      <td>-0.963811</td>\n",
              "      <td>0.245698</td>\n",
              "      <td>-0.699508</td>\n",
              "      <td>-1.290597</td>\n",
              "      <td>-2.561109</td>\n",
              "      <td>-0.641112</td>\n",
              "      <td>-0.192754</td>\n",
              "      <td>0</td>\n",
              "      <td>-0.826286</td>\n",
              "      <td>0.129632</td>\n",
              "    </tr>\n",
              "  </tbody>\n",
              "</table>\n",
              "</div>"
            ],
            "text/plain": [
              "   feature_0  feature_1  feature_2  feature_3  feature_4  feature_5  \\\n",
              "0   0.391943   1.386619  -0.140178   0.388745  -3.054169  -0.093261   \n",
              "1   0.921189  -1.972131   0.073887  -1.372257  -2.172764   0.301242   \n",
              "2   3.664802  -0.237792   1.422423   0.466005   2.051005   0.628103   \n",
              "3  -1.443205   1.203531  -0.523704   1.272438   1.110078  -0.785318   \n",
              "4  -0.031723  -2.980087  -0.571903   0.527606  -4.355382   1.658870   \n",
              "\n",
              "   feature_6  feature_7  feature_8  feature_9  feature_10  feature_11  \\\n",
              "0  -1.709212   2.857931   0.356881  -2.542477    0.155455   -1.306018   \n",
              "1   1.104396  -0.048902   0.896611   4.437979   -2.222714   -2.141050   \n",
              "2  -4.922358   0.204586  -2.880477   1.596624    0.843941    0.500198   \n",
              "3  -1.270623   3.521826  -3.037687   0.292205    3.863921    0.058702   \n",
              "4   0.028287   1.207216  -0.963811   0.245698   -0.699508   -1.290597   \n",
              "\n",
              "   feature_12  feature_13  feature_14  target  positive_predictors_sum  \\\n",
              "0    0.063715    1.172275   -1.302984       1                 3.310391   \n",
              "1   -2.381243    2.439874    1.146494       1                -3.802402   \n",
              "2   -1.591305    0.053384    1.662664       1                -0.920713   \n",
              "3    1.856966   -1.365796   -0.063612       1                 6.651231   \n",
              "4   -2.561109   -0.641112   -0.192754       0                -0.826286   \n",
              "\n",
              "   main_interaction  \n",
              "0         -0.988375  \n",
              "1         -6.090047  \n",
              "2          0.744035  \n",
              "3          0.371812  \n",
              "4          0.129632  "
            ]
          },
          "execution_count": 14,
          "metadata": {},
          "output_type": "execute_result"
        }
      ],
      "source": [
        "df_featured = pd.read_csv('dataset_cleaned.csv')\n",
        "\n",
        "# 1. Create the sum of the strongest positive predictors\n",
        "df_featured['positive_predictors_sum'] = df_featured[['feature_3', 'feature_7', 'feature_12']].sum(axis=1)\n",
        "\n",
        "# 2. Create the interaction term from the strongest positive and negative predictors\n",
        "df_featured['main_interaction'] = df_featured['feature_3'] * df_featured['feature_9']\n",
        "\n",
        "print(\"Successfully created two new, data-driven features.\")\n",
        "df_featured.head()"
      ]
    },
    {
      "cell_type": "code",
      "execution_count": 15,
      "metadata": {
        "colab": {
          "base_uri": "https://localhost:8080/"
        },
        "id": "aSWzkazNsO4A",
        "outputId": "3787b187-dac6-45f4-aa96-c1fd5697f1d9"
      },
      "outputs": [
        {
          "name": "stdout",
          "output_type": "stream",
          "text": [
            "\n",
            "Final featured dataset saved to 'dataset_featured.csv'\n"
          ]
        }
      ],
      "source": [
        "df_featured.to_csv('dataset_featured.csv', index=False)\n",
        "\n",
        "print(\"\\nFinal featured dataset saved to 'dataset_featured.csv'\")"
      ]
    },
    {
      "cell_type": "markdown",
      "metadata": {
        "id": "U9q2mKzxsVNB"
      },
      "source": [
        "## 4. Modeling\n",
        "\n",
        "With our data cleaned and our features engineered, it's time to train machine learning algorithms on our prepared data so they can learn the patterns that distinguish between the two target classes.\n",
        "\n",
        "We will train two different and popular classification models:\n",
        "\n",
        "1. Logistic Regression: A fast, simple, and highly interpretable linear model. It's a great baseline to see how well a straightforward approach works.\n",
        "\n",
        "2. Random Forest: A powerful and complex ensemble model that uses multiple \"decision trees\" to make a final prediction. It can capture non-linear relationships and is often a top performer.\n",
        "\n",
        "By comparing these two, we can see if the complexity of the Random Forest provides a real benefit over the simplicity of Logistic Regression."
      ]
    },
    {
      "cell_type": "code",
      "execution_count": 16,
      "metadata": {
        "colab": {
          "base_uri": "https://localhost:8080/",
          "height": 241
        },
        "id": "Pd0nKM4zsOuy",
        "outputId": "5c4bfca5-8ce8-4f0f-d834-77eaecd900a2"
      },
      "outputs": [
        {
          "name": "stdout",
          "output_type": "stream",
          "text": [
            "Featured dataset loaded successfully.\n"
          ]
        },
        {
          "data": {
            "text/html": [
              "<div>\n",
              "<style scoped>\n",
              "    .dataframe tbody tr th:only-of-type {\n",
              "        vertical-align: middle;\n",
              "    }\n",
              "\n",
              "    .dataframe tbody tr th {\n",
              "        vertical-align: top;\n",
              "    }\n",
              "\n",
              "    .dataframe thead th {\n",
              "        text-align: right;\n",
              "    }\n",
              "</style>\n",
              "<table border=\"1\" class=\"dataframe\">\n",
              "  <thead>\n",
              "    <tr style=\"text-align: right;\">\n",
              "      <th></th>\n",
              "      <th>feature_0</th>\n",
              "      <th>feature_1</th>\n",
              "      <th>feature_2</th>\n",
              "      <th>feature_3</th>\n",
              "      <th>feature_4</th>\n",
              "      <th>feature_5</th>\n",
              "      <th>feature_6</th>\n",
              "      <th>feature_7</th>\n",
              "      <th>feature_8</th>\n",
              "      <th>feature_9</th>\n",
              "      <th>feature_10</th>\n",
              "      <th>feature_11</th>\n",
              "      <th>feature_12</th>\n",
              "      <th>feature_13</th>\n",
              "      <th>feature_14</th>\n",
              "      <th>target</th>\n",
              "      <th>positive_predictors_sum</th>\n",
              "      <th>main_interaction</th>\n",
              "    </tr>\n",
              "  </thead>\n",
              "  <tbody>\n",
              "    <tr>\n",
              "      <th>0</th>\n",
              "      <td>0.391943</td>\n",
              "      <td>1.386619</td>\n",
              "      <td>-0.140178</td>\n",
              "      <td>0.388745</td>\n",
              "      <td>-3.054169</td>\n",
              "      <td>-0.093261</td>\n",
              "      <td>-1.709212</td>\n",
              "      <td>2.857931</td>\n",
              "      <td>0.356881</td>\n",
              "      <td>-2.542477</td>\n",
              "      <td>0.155455</td>\n",
              "      <td>-1.306018</td>\n",
              "      <td>0.063715</td>\n",
              "      <td>1.172275</td>\n",
              "      <td>-1.302984</td>\n",
              "      <td>1</td>\n",
              "      <td>3.310391</td>\n",
              "      <td>-0.988375</td>\n",
              "    </tr>\n",
              "    <tr>\n",
              "      <th>1</th>\n",
              "      <td>0.921189</td>\n",
              "      <td>-1.972131</td>\n",
              "      <td>0.073887</td>\n",
              "      <td>-1.372257</td>\n",
              "      <td>-2.172764</td>\n",
              "      <td>0.301242</td>\n",
              "      <td>1.104396</td>\n",
              "      <td>-0.048902</td>\n",
              "      <td>0.896611</td>\n",
              "      <td>4.437979</td>\n",
              "      <td>-2.222714</td>\n",
              "      <td>-2.141050</td>\n",
              "      <td>-2.381243</td>\n",
              "      <td>2.439874</td>\n",
              "      <td>1.146494</td>\n",
              "      <td>1</td>\n",
              "      <td>-3.802402</td>\n",
              "      <td>-6.090047</td>\n",
              "    </tr>\n",
              "    <tr>\n",
              "      <th>2</th>\n",
              "      <td>3.664802</td>\n",
              "      <td>-0.237792</td>\n",
              "      <td>1.422423</td>\n",
              "      <td>0.466005</td>\n",
              "      <td>2.051005</td>\n",
              "      <td>0.628103</td>\n",
              "      <td>-4.922358</td>\n",
              "      <td>0.204586</td>\n",
              "      <td>-2.880477</td>\n",
              "      <td>1.596624</td>\n",
              "      <td>0.843941</td>\n",
              "      <td>0.500198</td>\n",
              "      <td>-1.591305</td>\n",
              "      <td>0.053384</td>\n",
              "      <td>1.662664</td>\n",
              "      <td>1</td>\n",
              "      <td>-0.920713</td>\n",
              "      <td>0.744035</td>\n",
              "    </tr>\n",
              "    <tr>\n",
              "      <th>3</th>\n",
              "      <td>-1.443205</td>\n",
              "      <td>1.203531</td>\n",
              "      <td>-0.523704</td>\n",
              "      <td>1.272438</td>\n",
              "      <td>1.110078</td>\n",
              "      <td>-0.785318</td>\n",
              "      <td>-1.270623</td>\n",
              "      <td>3.521826</td>\n",
              "      <td>-3.037687</td>\n",
              "      <td>0.292205</td>\n",
              "      <td>3.863921</td>\n",
              "      <td>0.058702</td>\n",
              "      <td>1.856966</td>\n",
              "      <td>-1.365796</td>\n",
              "      <td>-0.063612</td>\n",
              "      <td>1</td>\n",
              "      <td>6.651231</td>\n",
              "      <td>0.371812</td>\n",
              "    </tr>\n",
              "    <tr>\n",
              "      <th>4</th>\n",
              "      <td>-0.031723</td>\n",
              "      <td>-2.980087</td>\n",
              "      <td>-0.571903</td>\n",
              "      <td>0.527606</td>\n",
              "      <td>-4.355382</td>\n",
              "      <td>1.658870</td>\n",
              "      <td>0.028287</td>\n",
              "      <td>1.207216</td>\n",
              "      <td>-0.963811</td>\n",
              "      <td>0.245698</td>\n",
              "      <td>-0.699508</td>\n",
              "      <td>-1.290597</td>\n",
              "      <td>-2.561109</td>\n",
              "      <td>-0.641112</td>\n",
              "      <td>-0.192754</td>\n",
              "      <td>0</td>\n",
              "      <td>-0.826286</td>\n",
              "      <td>0.129632</td>\n",
              "    </tr>\n",
              "  </tbody>\n",
              "</table>\n",
              "</div>"
            ],
            "text/plain": [
              "   feature_0  feature_1  feature_2  feature_3  feature_4  feature_5  \\\n",
              "0   0.391943   1.386619  -0.140178   0.388745  -3.054169  -0.093261   \n",
              "1   0.921189  -1.972131   0.073887  -1.372257  -2.172764   0.301242   \n",
              "2   3.664802  -0.237792   1.422423   0.466005   2.051005   0.628103   \n",
              "3  -1.443205   1.203531  -0.523704   1.272438   1.110078  -0.785318   \n",
              "4  -0.031723  -2.980087  -0.571903   0.527606  -4.355382   1.658870   \n",
              "\n",
              "   feature_6  feature_7  feature_8  feature_9  feature_10  feature_11  \\\n",
              "0  -1.709212   2.857931   0.356881  -2.542477    0.155455   -1.306018   \n",
              "1   1.104396  -0.048902   0.896611   4.437979   -2.222714   -2.141050   \n",
              "2  -4.922358   0.204586  -2.880477   1.596624    0.843941    0.500198   \n",
              "3  -1.270623   3.521826  -3.037687   0.292205    3.863921    0.058702   \n",
              "4   0.028287   1.207216  -0.963811   0.245698   -0.699508   -1.290597   \n",
              "\n",
              "   feature_12  feature_13  feature_14  target  positive_predictors_sum  \\\n",
              "0    0.063715    1.172275   -1.302984       1                 3.310391   \n",
              "1   -2.381243    2.439874    1.146494       1                -3.802402   \n",
              "2   -1.591305    0.053384    1.662664       1                -0.920713   \n",
              "3    1.856966   -1.365796   -0.063612       1                 6.651231   \n",
              "4   -2.561109   -0.641112   -0.192754       0                -0.826286   \n",
              "\n",
              "   main_interaction  \n",
              "0         -0.988375  \n",
              "1         -6.090047  \n",
              "2          0.744035  \n",
              "3          0.371812  \n",
              "4          0.129632  "
            ]
          },
          "execution_count": 16,
          "metadata": {},
          "output_type": "execute_result"
        }
      ],
      "source": [
        "df_model = pd.read_csv('dataset_featured.csv')\n",
        "\n",
        "print(\"Featured dataset loaded successfully.\")\n",
        "df_model.head()"
      ]
    },
    {
      "cell_type": "markdown",
      "metadata": {
        "id": "WwLhR5nlseCH"
      },
      "source": [
        "Preparing Data for Training (**Train-Test Split**)\n",
        "\n",
        "Before we can train a model, we must decide on the train-test split. we can do a 80-20 split.\n",
        "\n",
        "First, we'll separate our data into X (the features) and y (the target variable we want to predict)."
      ]
    },
    {
      "cell_type": "code",
      "execution_count": 17,
      "metadata": {
        "colab": {
          "base_uri": "https://localhost:8080/"
        },
        "id": "WO1I5uIasOmc",
        "outputId": "f0a05129-a7b6-4137-9f85-df6ed0d39df2"
      },
      "outputs": [
        {
          "name": "stdout",
          "output_type": "stream",
          "text": [
            "Features (X) shape: (1000, 17)\n",
            "Target (y) shape: (1000,)\n",
            "Training set size: 800\n",
            "Testing set size: 200\n"
          ]
        }
      ],
      "source": [
        "X = df_model.drop('target', axis=1)\n",
        "y = df_model['target']\n",
        "\n",
        "print(\"Features (X) shape:\", X.shape)\n",
        "print(\"Target (y) shape:\", y.shape)\n",
        "\n",
        "# Use the train_test_split function to divide the data\n",
        "# test_size=0.2 means 20% of the data will be used for testing\n",
        "# random_state=42 ensures that the split is the same every time we run the code, making our results reproducible\n",
        "X_train, X_test, y_train, y_test = train_test_split(X, y, test_size=0.2, random_state=42)\n",
        "\n",
        "print(\"Training set size:\", len(X_train))\n",
        "print(\"Testing set size:\", len(X_test))"
      ]
    },
    {
      "cell_type": "markdown",
      "metadata": {
        "id": "A4lkUKMlsm9y"
      },
      "source": [
        "Initialize and Train the Models"
      ]
    },
    {
      "cell_type": "code",
      "execution_count": 19,
      "metadata": {
        "colab": {
          "base_uri": "https://localhost:8080/"
        },
        "id": "0UVgFy1lsOXY",
        "outputId": "93fb1252-b6b6-457e-f142-c9c5b5a35375"
      },
      "outputs": [
        {
          "name": "stdout",
          "output_type": "stream",
          "text": [
            "Logistic Regression model trained successfully.\n",
            "Random Forest model trained successfully.\n"
          ]
        }
      ],
      "source": [
        "# 1. Initialize the Logistic Regression model\n",
        "# We set max_iter=1000 to ensure the model has enough iterations to converge\n",
        "log_reg_model = LogisticRegression(random_state=42, max_iter=1000)\n",
        "\n",
        "# 2. Initialize the Random Forest Classifier model\n",
        "rand_forest_model = RandomForestClassifier(random_state=42)\n",
        "\n",
        "# 3. Train the Logistic Regression model on the training data\n",
        "log_reg_model.fit(X_train, y_train)\n",
        "print(\"Logistic Regression model trained successfully.\")\n",
        "\n",
        "# 4. Train the Random Forest model on the training data\n",
        "rand_forest_model.fit(X_train, y_train)\n",
        "print(\"Random Forest model trained successfully.\")"
      ]
    },
    {
      "cell_type": "markdown",
      "metadata": {
        "id": "vsttcADnsyV2"
      },
      "source": [
        "Make Predictions on the Test Set"
      ]
    },
    {
      "cell_type": "code",
      "execution_count": 20,
      "metadata": {
        "colab": {
          "base_uri": "https://localhost:8080/"
        },
        "id": "iJBmod61ssFg",
        "outputId": "031441a5-a986-43cb-ca05-67e8251c9d2c"
      },
      "outputs": [
        {
          "name": "stdout",
          "output_type": "stream",
          "text": [
            "Predictions generated successfully for both models.\n"
          ]
        }
      ],
      "source": [
        "# Make predictions with the Logistic Regression model\n",
        "y_pred_log_reg = log_reg_model.predict(X_test)\n",
        "\n",
        "# Make predictions with the Random Forest model\n",
        "y_pred_rand_forest = rand_forest_model.predict(X_test)\n",
        "\n",
        "# To calculate ROC-AUC, we also need the probability predictions\n",
        "y_prob_log_reg = log_reg_model.predict_proba(X_test)[:, 1]\n",
        "y_prob_rand_forest = rand_forest_model.predict_proba(X_test)[:, 1]\n",
        "\n",
        "print(\"Predictions generated successfully for both models.\")"
      ]
    },
    {
      "cell_type": "markdown",
      "metadata": {
        "id": "PBA4cHLcs4xc"
      },
      "source": [
        "## 5. Evalution\n",
        "\n",
        "We'll use four standard metrics for classification:\n",
        "\n",
        "1. Accuracy: The most intuitive metric. It's the percentage of total predictions that were correct. $\\frac{\\text{True Positives} + \\text{True Negatives}}{\\text{Total Predictions}}$\n",
        "\n",
        "\n",
        "2. Precision: Of all the times the model predicted \"Positive\" (class 1), what percentage were actually positive? This metric is important when the cost of a false positive is high. $\\frac{\\text{True Positives}}{\\text{True Positives} + \\text{False Positives}}$\n",
        "\n",
        "\n",
        "3. F1-Score: The harmonic mean of Precision and Recall. It provides a single score that balances both concerns, making it a great overall measure, especially if the classes are imbalanced (though ours are not).\n",
        "\n",
        "4. ROC-AUC Score: This measures the model's ability to distinguish between the positive and negative classes across all possible thresholds. An AUC of 1.0 is a perfect classifier, while 0.5 is no better than random guessing."
      ]
    },
    {
      "cell_type": "code",
      "execution_count": 21,
      "metadata": {
        "colab": {
          "base_uri": "https://localhost:8080/"
        },
        "id": "p4hh4Yjpsr59",
        "outputId": "cf516e56-8462-40dd-b6d4-f10654ac536e"
      },
      "outputs": [
        {
          "name": "stdout",
          "output_type": "stream",
          "text": [
            "--- Logistic Regression Evaluation ---\n",
            "  Accuracy: 0.8950\n",
            "  Precision: 0.8763\n",
            "  F1-score: 0.8901\n",
            "  ROC-AUC: 0.9578\n",
            "\n",
            "--- Random Forest Evaluation ---\n",
            "  Accuracy: 0.9450\n",
            "  Precision: 0.9560\n",
            "  F1-score: 0.9405\n",
            "  ROC-AUC: 0.9836\n",
            "\n",
            "--- Model Comparison ---\n",
            "           Logistic Regression  Random Forest\n",
            "Metric                                       \n",
            "Accuracy              0.895000       0.945000\n",
            "Precision             0.876289       0.956044\n",
            "F1-score              0.890052       0.940541\n",
            "ROC-AUC               0.957848       0.983641\n"
          ]
        }
      ],
      "source": [
        "print(\"--- Logistic Regression Evaluation ---\")\n",
        "acc_lr = accuracy_score(y_test, y_pred_log_reg)\n",
        "prec_lr = precision_score(y_test, y_pred_log_reg)\n",
        "f1_lr = f1_score(y_test, y_pred_log_reg)\n",
        "roc_auc_lr = roc_auc_score(y_test, y_prob_log_reg)\n",
        "print(f\"  Accuracy: {acc_lr:.4f}\")\n",
        "print(f\"  Precision: {prec_lr:.4f}\")\n",
        "print(f\"  F1-score: {f1_lr:.4f}\")\n",
        "print(f\"  ROC-AUC: {roc_auc_lr:.4f}\")\n",
        "\n",
        "print(\"\\n--- Random Forest Evaluation ---\")\n",
        "acc_rf = accuracy_score(y_test, y_pred_rand_forest)\n",
        "prec_rf = precision_score(y_test, y_pred_rand_forest)\n",
        "f1_rf = f1_score(y_test, y_pred_rand_forest)\n",
        "roc_auc_rf = roc_auc_score(y_test, y_prob_rand_forest)\n",
        "print(f\"  Accuracy: {acc_rf:.4f}\")\n",
        "print(f\"  Precision: {prec_rf:.4f}\")\n",
        "print(f\"  F1-score: {f1_rf:.4f}\")\n",
        "print(f\"  ROC-AUC: {roc_auc_rf:.4f}\")\n",
        "\n",
        "# --- Create a comparison table ---\n",
        "metrics_df = pd.DataFrame({\n",
        "    'Metric': ['Accuracy', 'Precision', 'F1-score', 'ROC-AUC'],\n",
        "    'Logistic Regression': [acc_lr, prec_lr, f1_lr, roc_auc_lr],\n",
        "    'Random Forest': [acc_rf, prec_rf, f1_rf, roc_auc_rf]\n",
        "})\n",
        "print(\"\\n--- Model Comparison ---\")\n",
        "print(metrics_df.set_index('Metric'))"
      ]
    },
    {
      "cell_type": "markdown",
      "metadata": {
        "id": "PsoCax11tEQJ"
      },
      "source": [
        "## 6. Overfitting Analysis and Cross-Validation"
      ]
    },
    {
      "cell_type": "code",
      "execution_count": 22,
      "metadata": {
        "colab": {
          "base_uri": "https://localhost:8080/"
        },
        "id": "F8B2Pzd0srrP",
        "outputId": "e4bbf8d3-4fb1-40b1-ee4d-bb252e4cedcb"
      },
      "outputs": [
        {
          "name": "stdout",
          "output_type": "stream",
          "text": [
            "--- Overfitting Analysis ---\n",
            "Logistic Regression Training Accuracy: 0.8825\n",
            "Logistic Regression Test Accuracy:   0.8950\n",
            "\n",
            "Random Forest Training Accuracy:     1.0000\n",
            "Random Forest Test Accuracy:       0.9450\n",
            "\n",
            "--- Cross-Validation Scores (Accuracy) ---\n",
            "Logistic Regression CV Mean Accuracy: 0.8770 +/- 0.0087\n",
            "Random Forest CV Mean Accuracy:       0.9300 +/- 0.0152\n"
          ]
        }
      ],
      "source": [
        "# --- Overfitting Check ---\n",
        "train_acc_lr = log_reg_model.score(X_train, y_train)\n",
        "train_acc_rf = rand_forest_model.score(X_train, y_train)\n",
        "\n",
        "print(\"--- Overfitting Analysis ---\")\n",
        "print(f\"Logistic Regression Training Accuracy: {train_acc_lr:.4f}\")\n",
        "print(f\"Logistic Regression Test Accuracy:   {acc_lr:.4f}\\n\")\n",
        "\n",
        "print(f\"Random Forest Training Accuracy:     {train_acc_rf:.4f}\")\n",
        "print(f\"Random Forest Test Accuracy:       {acc_rf:.4f}\")\n",
        "\n",
        "\n",
        "# --- 5-Fold Cross-Validation ---\n",
        "print(\"\\n--- Cross-Validation Scores (Accuracy) ---\")\n",
        "\n",
        "# Perform 5-fold cross-validation on the entire dataset (X, y)\n",
        "cv_scores_lr = cross_val_score(log_reg_model, X, y, cv=5)\n",
        "cv_scores_rf = cross_val_score(rand_forest_model, X, y, cv=5)\n",
        "\n",
        "print(f\"Logistic Regression CV Mean Accuracy: {cv_scores_lr.mean():.4f} +/- {cv_scores_lr.std():.4f}\")\n",
        "print(f\"Random Forest CV Mean Accuracy:       {cv_scores_rf.mean():.4f} +/- {cv_scores_rf.std():.4f}\")"
      ]
    },
    {
      "cell_type": "markdown",
      "metadata": {
        "id": "_IlJBFkntNUp"
      },
      "source": [
        "## conclusions from above metrics:\n",
        "\n",
        "1. **Model Performance:** The Random Forest model is the decisive winner. Based on the test set evaluation, it achieved a superior Accuracy of 94.5% and an excellent ROC-AUC score of 0.9836. This significantly surpasses the Logistic Regression model's 89.5% accuracy and 0.9578 ROC-AUC, proving that the Random Forest's ability to capture complex patterns was more effective for this dataset.\n",
        "\n",
        "2. **Overfitting:** The results clearly illustrate the classic trade-off between model power and overfitting. The Random Forest model achieved a perfect 1.0000 training accuracy, which, when compared to its 0.9450 test accuracy, is a definitive sign of overfitting; it has memorized the training data to some extent. In contrast, the Logistic Regression model showed no signs of overfitting, with its test accuracy (0.8950) being very close to its training accuracy (0.8825), indicating it generalizes well.\n",
        "\n",
        "3. **Robustness (Cross-Validation):** The 5-fold cross-validation scores provide the most reliable estimate of real-world performance. They confirm the Random Forest's superiority, giving it a robust average accuracy of 93.0%. This is slightly lower than the single test split result but still excellent. The cross-validation also reinforces that the Logistic Regression model is stable and consistent, with its average accuracy of 87.7% closely matching its performance in the other tests. Ultimately, while the Random Forest overfits to a degree, its generalized performance is still substantially better."
      ]
    },
    {
      "cell_type": "code",
      "execution_count": 23,
      "metadata": {
        "colab": {
          "base_uri": "https://localhost:8080/"
        },
        "id": "pBhv-2G5tKtI",
        "outputId": "2167885c-cf3b-44f0-950f-f4a5f3b7a7a4"
      },
      "outputs": [
        {
          "name": "stdout",
          "output_type": "stream",
          "text": [
            "Final model saved successfully as 'final_model.joblib'\n"
          ]
        }
      ],
      "source": [
        "final_model = rand_forest_model\n",
        "\n",
        "joblib.dump(final_model, 'final_model.joblib')\n",
        "\n",
        "print(\"Final model saved successfully as 'final_model.joblib'\")"
      ]
    },
    {
      "cell_type": "markdown",
      "metadata": {
        "id": "MJScy5aWtVCt"
      },
      "source": [
        "After a thorough process of data cleaning, feature engineering, and competitive evaluation, the Random Forest classifier was definitively selected as the champion model. It significantly outperformed the Logistic Regression, achieving a strong test set accuracy of 94.5% and a robust cross-validated accuracy of 93.0%. While the model showed signs of overfitting by perfectly memorizing the training data, its exceptional performance on unseen test data confirmed its superior predictive power. This final, trained Random Forest model has now been saved to the file final_model.joblib, concluding the development phase and making it ready for our next major goal: deployment."
      ]
    }
  ],
  "metadata": {
    "colab": {
      "provenance": []
    },
    "kernelspec": {
      "display_name": "Python 3",
      "name": "python3"
    },
    "language_info": {
      "codemirror_mode": {
        "name": "ipython",
        "version": 3
      },
      "file_extension": ".py",
      "mimetype": "text/x-python",
      "name": "python",
      "nbconvert_exporter": "python",
      "pygments_lexer": "ipython3",
      "version": "3.9.12"
    }
  },
  "nbformat": 4,
  "nbformat_minor": 0
}
